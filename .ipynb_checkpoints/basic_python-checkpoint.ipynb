{
 "cells": [
  {
   "cell_type": "markdown",
   "metadata": {},
   "source": [
    "# Python Basics\n",
    "\n",
    "This notebook closely follows the steps that have been discussed during the data science course that was taught at NYU in Spring 2017. \n",
    "(*The hope is that this document will organically grow into a self tutorial*)\n",
    "\n",
    "The original codes based on which a lot of this document is written can be found in [Kevin Munger's git repo](https://github.com/kmunger/DataScienceCourse)\n",
    "\n",
    "There are multiple reasons one would want to use notebooks. Some that I have found useful so far are as follows:\n",
    "* Simply it provides a clean ide (a graphical user interface, so that the user doesn't need to constantly work in a terminal and imagine what is happening) to work in. \n",
    "* Notebooks provide the output inline, the figures that you make will be displayed right below the code. So you can make changes and see the results in real time.\n",
    "* It is very useful when using remore servers. For example, if I wanted to use MATLAB in the graphical mode on a remote server, the network would need to transfer back and forth not only the text but also the entire graphical data corresponding to the ide. This can be very slow and cause problems like the graphical interface being very slow with a lot of lag. Instead jupyter noterbooks circumvent this problem. Only the text and some info about figures is being transferred back and forth at the time of execution. So, the user can get the feel of working in an IDE, but at the same time not experience the lag.\n",
    "* Also, it work with multiple programming/scripting languages. This document here is in Python, but I could just as easily have done all this in MATLAB (or any other interpretted language)\n",
    "\n",
    "\n",
    "**Here is some basic math and printing**"
   ]
  },
  {
   "cell_type": "code",
   "execution_count": 16,
   "metadata": {
    "collapsed": false
   },
   "outputs": [
    {
     "name": "stdout",
     "output_type": "stream",
     "text": [
      "The radius of the earth is 3959.0 miles or 6334.40 km\n"
     ]
    }
   ],
   "source": [
    "earth_radius_miles = 3959.\n",
    "\n",
    "def convert_to_km(radius_miles):\n",
    "   radius_km = radius_miles*1.6\n",
    "   return radius_km\n",
    "\n",
    "earth_radius_km = convert_to_km(earth_radius_miles)\n",
    "\n",
    "# notice that there are different ways to print strings\n",
    "print('The radius of the earth is ' + str(earth_radius_miles) + ' miles or %.2f' % earth_radius_km + ' km')"
   ]
  },
  {
   "cell_type": "code",
   "execution_count": 19,
   "metadata": {
    "collapsed": false
   },
   "outputs": [
    {
     "name": "stdout",
     "output_type": "stream",
     "text": [
      "Dude Earth is huge!, but Mars is tiny\n"
     ]
    }
   ],
   "source": [
    "mars_radius_miles = 2106. \n",
    "\n",
    "# play with the condition here\n",
    "condition = mars_radius_miles < earth_radius_miles\n",
    "\n",
    "if condition:\n",
    "    print(\"Dude Earth is huge!, but Mars is tiny\")\n",
    "else:\n",
    "    print(\"Mars is so big, I am tired of living on tiny earth\")"
   ]
  },
  {
   "cell_type": "markdown",
   "metadata": {},
   "source": [
    "**Default data types in Python**"
   ]
  },
  {
   "cell_type": "code",
   "execution_count": 49,
   "metadata": {
    "collapsed": false
   },
   "outputs": [
    {
     "name": "stdout",
     "output_type": "stream",
     "text": [
      "[[True, 'True', 1], False]\n",
      "[True, 'True', 1, False]\n",
      "True\n",
      "{'Mars': 2106.0, 'Earth': 3959.0}\n"
     ]
    }
   ],
   "source": [
    "# lists\n",
    "# the data collection doesn't need to be the same type\n",
    "A = [True, 'True', 1]\n",
    "B = [A, False] # a list of lists and other things\n",
    "print(B)\n",
    "\n",
    "A.append(False) # added element to a list\n",
    "print(A)\n",
    "\n",
    "print(A[0])  # element access \n",
    "\n",
    "# Dictionaries\n",
    "# reference data by keys rather than indices\n",
    "dic_test = {\"Earth\": 3959.0, \"Mars\": 2106.}\n",
    "print(dic_test)"
   ]
  },
  {
   "cell_type": "markdown",
   "metadata": {},
   "source": [
    "**Loops**"
   ]
  },
  {
   "cell_type": "code",
   "execution_count": 50,
   "metadata": {
    "collapsed": false
   },
   "outputs": [
    {
     "name": "stdout",
     "output_type": "stream",
     "text": [
      "True 0\n",
      "True 1\n",
      "1 2\n",
      "False 3\n"
     ]
    }
   ],
   "source": [
    "for a in range(0,len(A)):\n",
    "    print(A[a] , str(a))"
   ]
  },
  {
   "cell_type": "code",
   "execution_count": 51,
   "metadata": {
    "collapsed": false
   },
   "outputs": [
    {
     "name": "stdout",
     "output_type": "stream",
     "text": [
      "The radius of Mars  is 2106.0 miles\n",
      "The radius of Earth  is 3959.0 miles\n"
     ]
    }
   ],
   "source": [
    "for key in dic_test:\n",
    "    print('The radius of {0}  is {1} miles'.format(key, dic_test[key]))"
   ]
  },
  {
   "cell_type": "code",
   "execution_count": null,
   "metadata": {
    "collapsed": true
   },
   "outputs": [],
   "source": []
  }
 ],
 "metadata": {
  "kernelspec": {
   "display_name": "Python [conda root]",
   "language": "python",
   "name": "conda-root-py"
  },
  "language_info": {
   "codemirror_mode": {
    "name": "ipython",
    "version": 3
   },
   "file_extension": ".py",
   "mimetype": "text/x-python",
   "name": "python",
   "nbconvert_exporter": "python",
   "pygments_lexer": "ipython3",
   "version": "3.5.2"
  }
 },
 "nbformat": 4,
 "nbformat_minor": 1
}
